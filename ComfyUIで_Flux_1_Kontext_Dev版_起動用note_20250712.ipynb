{
  "nbformat": 4,
  "nbformat_minor": 0,
  "metadata": {
    "colab": {
      "provenance": []
    },
    "kernelspec": {
      "name": "python3",
      "display_name": "Python 3"
    },
    "language_info": {
      "name": "python"
    }
  },
  "cells": [
    {
      "cell_type": "markdown",
      "source": [
        "# 🌸 AIみちくさチャンネル 無料配布 Flux_1_Kontext_Dev版_起動 ノートブック 🌸"
      ],
      "metadata": {
        "id": "KlMZt546mK9d"
      }
    },
    {
      "cell_type": "markdown",
      "source": [
        "# 🍀 はじめに\n",
        "- ＡＩみちくさチャンネル視聴者の皆様いつも本当にありがとうございます！🐣  \n",
        "- このノートブックは、最新の ComfyUI を Google Drive に設置し、Flux_1_Kontext_Dev をどなたでも簡単に起動できる様にしたものです。\n"
      ],
      "metadata": {
        "id": "oCKYW2LFmWWl"
      }
    },
    {
      "cell_type": "markdown",
      "source": [
        "## 📄 目次\n",
        "1. Google Drive のマウント  \n",
        "2. ComfyUI 本体の取得と更新  \n",
        "3. フォルダ構成の自動生成  \n",
        "4. 必要モデルのダウンロード  \n",
        "5. 依存関係のインストール  \n",
        "6. cloudflared の準備  \n",
        "7. ComfyUI の起動  "
      ],
      "metadata": {
        "id": "M7anuHAVof9V"
      }
    },
    {
      "cell_type": "markdown",
      "source": [
        "##  1️⃣ Google Drive のマウント"
      ],
      "metadata": {
        "id": "XUXysmTUmcga"
      }
    },
    {
      "cell_type": "code",
      "execution_count": null,
      "metadata": {
        "id": "ePHXJVlomJAs"
      },
      "outputs": [],
      "source": [
        "# 🍀 Google Drive をマウントして、モデルやファイルを Drive 上に保存します\n",
        "from google.colab import drive\n",
        "print(\"🌱 Google Drive をマウントします…\")\n",
        "drive.mount('/content/drive')"
      ]
    },
    {
      "cell_type": "markdown",
      "source": [
        "## 2️⃣ ComfyUI 本体の取得と更新"
      ],
      "metadata": {
        "id": "W30YvZDMmk1y"
      }
    },
    {
      "cell_type": "code",
      "source": [
        "%%bash\n",
        "# 🌸 ComfyUI のワークスペースを指定\n",
        "WORKSPACE=\"/content/drive/MyDrive/ComfyUI\"\n",
        "\n",
        "# 📂 フォルダがなければ初回クローン、あれば pull で更新\n",
        "if [ ! -d \"$WORKSPACE\" ]; then\n",
        "  echo \"📂 ComfyUI を初回クローンしています…\"\n",
        "  git clone https://github.com/comfyanonymous/ComfyUI.git \"$WORKSPACE\"\n",
        "else\n",
        "  echo \"🍀 ComfyUI を更新しています…\"\n",
        "  cd \"$WORKSPACE\" && git pull\n",
        "fi\n",
        "\n",
        "# ワークスペースに移動\n",
        "cd \"$WORKSPACE\""
      ],
      "metadata": {
        "id": "j1xwhZ6Hm7pK"
      },
      "execution_count": null,
      "outputs": []
    },
    {
      "cell_type": "markdown",
      "source": [
        "## 3️⃣ フォルダ構成の自動生成"
      ],
      "metadata": {
        "id": "mn7RZ7rFm-yc"
      }
    },
    {
      "cell_type": "code",
      "source": [
        "%%bash\n",
        "# 🍀 Drive 上にモデルや出力用フォルダを一気に作成（存在すればスキップ）\n",
        "WORKSPACE=\"/content/drive/MyDrive/ComfyUI\"\n",
        "echo \"📁 フォルダ構成を準備中…\"\n",
        "\n",
        "mkdir -p \\\n",
        "  \"$WORKSPACE/models/diffusion_models\" \\\n",
        "  \"$WORKSPACE/models/vae\" \\\n",
        "  \"$WORKSPACE/models/text_encoders\" \\\n",
        "  \"$WORKSPACE/controlnet\" \\\n",
        "  \"$WORKSPACE/embeddings\" \\\n",
        "  \"$WORKSPACE/lora\" \\\n",
        "  \"$WORKSPACE/clipVision\" \\\n",
        "  \"$WORKSPACE/output\"\n",
        "\n",
        "echo \"✅ フォルダ生成完了！\""
      ],
      "metadata": {
        "id": "Q1wKEpyOnBo8"
      },
      "execution_count": null,
      "outputs": []
    },
    {
      "cell_type": "markdown",
      "source": [
        "## 4️⃣ 必要モデルのダウンロード"
      ],
      "metadata": {
        "id": "FaQzBQ0vnIXW"
      }
    },
    {
      "cell_type": "code",
      "source": [
        "%%bash\n",
        "# 🌸 各種モデルをダウンロード\n",
        "WORKSPACE=\"/content/drive/MyDrive/ComfyUI\"\n",
        "\n",
        "echo \"🌱 diffusion model をダウンロード…\"\n",
        "wget -c https://huggingface.co/Comfy-Org/flux1-kontext-dev_ComfyUI/resolve/main/split_files/diffusion_models/flux1-dev-kontext_fp8_scaled.safetensors \\\n",
        "     -P \"$WORKSPACE/models/diffusion_models/\"\n",
        "\n",
        "echo \"🌱 vae をダウンロード…\"\n",
        "wget -c https://huggingface.co/Comfy-Org/Lumina_Image_2.0_Repackaged/resolve/main/split_files/vae/ae.safetensors \\\n",
        "     -P \"$WORKSPACE/models/vae/\"\n",
        "\n",
        "echo \"🌱 text encoder をダウンロード…\"\n",
        "wget -c https://huggingface.co/comfyanonymous/flux_text_encoders/resolve/main/clip_l.safetensors \\\n",
        "     -P \"$WORKSPACE/models/text_encoders/\"\n",
        "wget -c https://huggingface.co/comfyanonymous/flux_text_encoders/resolve/main/t5xxl_fp16.safetensors \\\n",
        "     -P \"$WORKSPACE/models/text_encoders/\"\n"
      ],
      "metadata": {
        "id": "FxpUwO5RnIKH"
      },
      "execution_count": null,
      "outputs": []
    },
    {
      "cell_type": "markdown",
      "source": [
        "##5️⃣ 依存関係のインストール"
      ],
      "metadata": {
        "id": "QWI49kpBo5nH"
      }
    },
    {
      "cell_type": "code",
      "source": [
        "%%bash\n",
        "# 📃 ComfyUI ディレクトリに移動して依存関係をインストール\n",
        "cd \"/content/drive/MyDrive/ComfyUI\"\n",
        "echo \"📃 依存関係をインストール中…\"\n",
        "pip install -q xformers!=0.0.18 -r requirements.txt \\\n",
        "  --extra-index-url https://download.pytorch.org/whl/cu121 \\\n",
        "  --extra-index-url https://download.pytorch.org/whl/cu118 \\\n",
        "  --extra-index-url https://download.pytorch.org/whl/cu117\n",
        "echo \"✅ 依存関係インストール完了！\"\n"
      ],
      "metadata": {
        "id": "fWA5clwpo9Dc"
      },
      "execution_count": null,
      "outputs": []
    },
    {
      "cell_type": "markdown",
      "source": [
        "##6️⃣ cloudflared の準備"
      ],
      "metadata": {
        "id": "lJnaeEL9o-yO"
      }
    },
    {
      "cell_type": "code",
      "source": [
        "%%bash\n",
        "# 🌎 cloudflared をインストール\n",
        "echo \"🌎 cloudflared をインストールしています…\"\n",
        "# Cloudflare の公開鍵を追加\n",
        "curl -fsSL https://pkg.cloudflare.com/pubkey.gpg | sudo apt-key add -\n",
        "# apt リポジトリを追加\n",
        "echo 'deb https://pkg.cloudflare.com/ jammy main' | sudo tee /etc/apt/sources.list.d/cloudflare.list\n",
        "# パッケージリストを更新＆cloudflaredをインストール\n",
        "sudo apt-get update -q\n",
        "sudo apt-get install -y cloudflared\n",
        "\n",
        "echo \"✅ cloudflared のインストールが完了しました！\""
      ],
      "metadata": {
        "id": "s-YfikbXpDHo"
      },
      "execution_count": null,
      "outputs": []
    },
    {
      "cell_type": "markdown",
      "source": [
        "##7️⃣ ComfyUI の起動_（cloudflared の準備_トンネル起動）"
      ],
      "metadata": {
        "id": "P46w6pJ3vHl2"
      }
    },
    {
      "cell_type": "code",
      "source": [
        "import os\n",
        "import subprocess\n",
        "import threading\n",
        "import time\n",
        "import socket\n",
        "from google.colab import drive, output\n",
        "\n",
        "# 1️⃣ Google Drive をマウント\n",
        "print(\"🌱 Google Drive をマウントしています…\")\n",
        "drive.mount('/content/drive', force_remount=True)\n",
        "\n",
        "# 2️⃣ ComfyUI リポジトリのクローン or 更新\n",
        "WORKSPACE = '/content/drive/MyDrive/ComfyUI'\n",
        "if not os.path.isdir(WORKSPACE):\n",
        "    print(\"📂 ComfyUI をクローンしています…\")\n",
        "    subprocess.run(['git', 'clone', '--depth', '1', 'https://github.com/comfyanonymous/ComfyUI.git', WORKSPACE])\n",
        "else:\n",
        "    print(\"🔄 ComfyUI を最新に更新しています…\")\n",
        "    subprocess.run(['git', 'pull'], cwd=WORKSPACE)\n",
        "\n",
        "# 3️⃣ 依存関係のインストール\n",
        "print(\"📦 依存関係をインストールしています…（少し時間がかかります）\")\n",
        "subprocess.run([\n",
        "    'pip', 'install', '-q', 'xformers!=0.0.18', '-r', 'requirements.txt',\n",
        "    '--extra-index-url', 'https://download.pytorch.org/whl/cu121',\n",
        "    '--extra-index-url', 'https://download.pytorch.org/whl/cu118',\n",
        "    '--extra-index-url', 'https://download.pytorch.org/whl/cu117'\n",
        "], cwd=WORKSPACE)\n",
        "\n",
        "# 4️⃣ ComfyUI をバックグラウンドで起動\n",
        "print(\"🔧 ComfyUI を起動しています…\")\n",
        "subprocess.Popen(\n",
        "    ['python', 'main.py', '--listen', '--host', '0.0.0.0', '--port', '8188'],\n",
        "    cwd=WORKSPACE\n",
        ")\n",
        "\n",
        "# 5️⃣ ポート 8188 がオープンするのを待って iframe 埋め込み\n",
        "def serve_comfy():\n",
        "    print(\"⏳ ポート 8188 の準備を待っています…\")\n",
        "    while True:\n",
        "        time.sleep(0.5)\n",
        "        with socket.socket(socket.AF_INET, socket.SOCK_STREAM) as sock:\n",
        "            if sock.connect_ex(('127.0.0.1', 8188)) == 0:\n",
        "                break\n",
        "    print(\"✅ ComfyUI が起動しました！UI を埋め込みます…\")\n",
        "    output.serve_kernel_port_as_iframe(8188, height=900)\n",
        "    output.serve_kernel_port_as_window(8188)\n",
        "\n",
        "threading.Thread(target=serve_comfy, daemon=True).start()\n"
      ],
      "metadata": {
        "id": "sWUP_dVE4d0g"
      },
      "execution_count": null,
      "outputs": []
    }
  ]
}