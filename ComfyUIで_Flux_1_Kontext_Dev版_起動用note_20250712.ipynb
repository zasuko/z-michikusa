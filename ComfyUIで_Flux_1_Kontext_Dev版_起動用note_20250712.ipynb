{
  "nbformat": 4,
  "nbformat_minor": 0,
  "metadata": {
    "colab": {
      "provenance": [],
      "collapsed_sections": [
        "XUXysmTUmcga",
        "mn7RZ7rFm-yc",
        "QWI49kpBo5nH",
        "lJnaeEL9o-yO"
      ]
    },
    "kernelspec": {
      "name": "python3",
      "display_name": "Python 3"
    },
    "language_info": {
      "name": "python"
    }
  },
  "cells": [
    {
      "cell_type": "markdown",
      "source": [
        "# 🌸 AIみちくさチャンネル 無料配布 Colab ノートブック 🌸"
      ],
      "metadata": {
        "id": "KlMZt546mK9d"
      }
    },
    {
      "cell_type": "markdown",
      "source": [
        "# 🍀 はじめに\n",
        "- ＡＩみちくさチャンネル視聴者の皆様いつも本当にありがとうございます！🐣  \n",
        "- このノートブックでは、最新の ComfyUI を Google Drive に設置し、cloudflared 経由でどなたでも簡単に起動できるようにします🌎  \n"
      ],
      "metadata": {
        "id": "oCKYW2LFmWWl"
      }
    },
    {
      "cell_type": "markdown",
      "source": [
        "## 📄 目次\n",
        "1. Google Drive のマウント  \n",
        "2. ComfyUI 本体の取得と更新  \n",
        "3. フォルダ構成の自動生成  \n",
        "4. 必要モデルのダウンロード  \n",
        "5. 依存関係のインストール  \n",
        "6. cloudflared の準備  \n",
        "7. ComfyUI の起動  "
      ],
      "metadata": {
        "id": "M7anuHAVof9V"
      }
    },
    {
      "cell_type": "markdown",
      "source": [
        "##  1️⃣ Google Drive のマウント"
      ],
      "metadata": {
        "id": "XUXysmTUmcga"
      }
    },
    {
      "cell_type": "code",
      "execution_count": null,
      "metadata": {
        "colab": {
          "base_uri": "https://localhost:8080/"
        },
        "id": "ePHXJVlomJAs",
        "outputId": "4c52c9bc-154c-4200-ddf0-6bbe38ac1d64"
      },
      "outputs": [
        {
          "output_type": "stream",
          "name": "stdout",
          "text": [
            "🌱 Google Drive をマウントします…\n",
            "Mounted at /content/drive\n"
          ]
        }
      ],
      "source": [
        "# 🍀 Google Drive をマウントして、モデルやファイルを Drive 上に保存します\n",
        "from google.colab import drive\n",
        "print(\"🌱 Google Drive をマウントします…\")\n",
        "drive.mount('/content/drive')"
      ]
    },
    {
      "cell_type": "markdown",
      "source": [
        "## 2️⃣ ComfyUI 本体の取得と更新"
      ],
      "metadata": {
        "id": "W30YvZDMmk1y"
      }
    },
    {
      "cell_type": "code",
      "source": [
        "%%bash\n",
        "# 🌸 ComfyUI のワークスペースを指定\n",
        "WORKSPACE=\"/content/drive/MyDrive/ComfyUI\"\n",
        "\n",
        "# 📂 フォルダがなければ初回クローン、あれば pull で更新\n",
        "if [ ! -d \"$WORKSPACE\" ]; then\n",
        "  echo \"📂 ComfyUI を初回クローンしています…\"\n",
        "  git clone https://github.com/comfyanonymous/ComfyUI.git \"$WORKSPACE\"\n",
        "else\n",
        "  echo \"🍀 ComfyUI を更新しています…\"\n",
        "  cd \"$WORKSPACE\" && git pull\n",
        "fi\n",
        "\n",
        "# ワークスペースに移動\n",
        "cd \"$WORKSPACE\""
      ],
      "metadata": {
        "colab": {
          "base_uri": "https://localhost:8080/"
        },
        "id": "j1xwhZ6Hm7pK",
        "outputId": "0fb0bb03-57ae-440e-92f9-9b3c5690a2ef"
      },
      "execution_count": null,
      "outputs": [
        {
          "output_type": "stream",
          "name": "stdout",
          "text": [
            "🍀 ComfyUI を更新しています…\n",
            "Updating 3872b43d..27870ec3\n"
          ]
        },
        {
          "output_type": "stream",
          "name": "stderr",
          "text": [
            "error: Your local changes to the following files would be overwritten by merge:\n",
            "\t.ci/update_windows/update.py\n",
            "\tcomfy/ldm/hydit/models.py\n",
            "Please commit your changes or stash them before you merge.\n",
            "Aborting\n"
          ]
        }
      ]
    },
    {
      "cell_type": "markdown",
      "source": [
        "## 3️⃣ フォルダ構成の自動生成"
      ],
      "metadata": {
        "id": "mn7RZ7rFm-yc"
      }
    },
    {
      "cell_type": "code",
      "source": [
        "%%bash\n",
        "# 🍀 Drive 上にモデルや出力用フォルダを一気に作成（存在すればスキップ）\n",
        "WORKSPACE=\"/content/drive/MyDrive/ComfyUI\"\n",
        "echo \"📁 フォルダ構成を準備中…\"\n",
        "\n",
        "mkdir -p \\\n",
        "  \"$WORKSPACE/models/diffusion_models\" \\\n",
        "  \"$WORKSPACE/models/vae\" \\\n",
        "  \"$WORKSPACE/models/text_encoders\" \\\n",
        "  \"$WORKSPACE/controlnet\" \\\n",
        "  \"$WORKSPACE/embeddings\" \\\n",
        "  \"$WORKSPACE/lora\" \\\n",
        "  \"$WORKSPACE/clipVision\" \\\n",
        "  \"$WORKSPACE/output\"\n",
        "\n",
        "echo \"✅ フォルダ生成完了！\""
      ],
      "metadata": {
        "colab": {
          "base_uri": "https://localhost:8080/"
        },
        "id": "Q1wKEpyOnBo8",
        "outputId": "7ca47c4c-06e6-4865-9c44-f8104625bbe6"
      },
      "execution_count": null,
      "outputs": [
        {
          "output_type": "stream",
          "name": "stdout",
          "text": [
            "📁 フォルダ構成を準備中…\n",
            "✅ フォルダ生成完了！\n"
          ]
        }
      ]
    },
    {
      "cell_type": "markdown",
      "source": [
        "## 4️⃣ 必要モデルのダウンロード"
      ],
      "metadata": {
        "id": "FaQzBQ0vnIXW"
      }
    },
    {
      "cell_type": "code",
      "source": [
        "%%bash\n",
        "# 🌸 各種モデルをダウンロード\n",
        "WORKSPACE=\"/content/drive/MyDrive/ComfyUI\"\n",
        "\n",
        "echo \"🌱 diffusion model をダウンロード…\"\n",
        "wget -c https://huggingface.co/Comfy-Org/flux1-kontext-dev_ComfyUI/resolve/main/split_files/diffusion_models/flux1-dev-kontext_fp8_scaled.safetensors \\\n",
        "     -P \"$WORKSPACE/models/diffusion_models/\"\n",
        "\n",
        "echo \"🌱 vae をダウンロード…\"\n",
        "wget -c https://huggingface.co/Comfy-Org/Lumina_Image_2.0_Repackaged/resolve/main/split_files/vae/ae.safetensors \\\n",
        "     -P \"$WORKSPACE/models/vae/\"\n",
        "\n",
        "echo \"🌱 text encoder をダウンロード…\"\n",
        "wget -c https://huggingface.co/comfyanonymous/flux_text_encoders/resolve/main/clip_l.safetensors \\\n",
        "     -P \"$WORKSPACE/models/text_encoders/\"\n",
        "wget -c https://huggingface.co/comfyanonymous/flux_text_encoders/resolve/main/t5xxl_fp16.safetensors \\\n",
        "     -P \"$WORKSPACE/models/text_encoders/\"\n"
      ],
      "metadata": {
        "id": "FxpUwO5RnIKH"
      },
      "execution_count": null,
      "outputs": []
    },
    {
      "cell_type": "markdown",
      "source": [
        "##5️⃣ 依存関係のインストール"
      ],
      "metadata": {
        "id": "QWI49kpBo5nH"
      }
    },
    {
      "cell_type": "code",
      "source": [
        "%%bash\n",
        "# 📃 ComfyUI ディレクトリに移動して依存関係をインストール\n",
        "cd \"/content/drive/MyDrive/ComfyUI\"\n",
        "echo \"📃 依存関係をインストール中…\"\n",
        "pip install -q xformers!=0.0.18 -r requirements.txt \\\n",
        "  --extra-index-url https://download.pytorch.org/whl/cu121 \\\n",
        "  --extra-index-url https://download.pytorch.org/whl/cu118 \\\n",
        "  --extra-index-url https://download.pytorch.org/whl/cu117\n",
        "echo \"✅ 依存関係インストール完了！\"\n"
      ],
      "metadata": {
        "colab": {
          "base_uri": "https://localhost:8080/"
        },
        "id": "fWA5clwpo9Dc",
        "outputId": "dff74d18-c806-4482-c54b-f2662a3c5e39"
      },
      "execution_count": null,
      "outputs": [
        {
          "output_type": "stream",
          "name": "stdout",
          "text": [
            "📃 依存関係をインストール中…\n",
            "     ━━━━━━━━━━━━━━━━━━━━━━━━━━━━━━━━━━━━━━━ 663.9/663.9 MB 1.1 MB/s eta 0:00:00\n",
            "     ━━━━━━━━━━━━━━━━━━━━━━━━━━━━━━━━━━━━━━━ 147.8/147.8 MB 7.1 MB/s eta 0:00:00\n",
            "   ━━━━━━━━━━━━━━━━━━━━━━━━━━━━━━━━━━━━━━━━ 29.9/29.9 MB 8.1 MB/s eta 0:00:00\n",
            "   ━━━━━━━━━━━━━━━━━━━━━━━━━━━━━━━━━━━━━━━━ 13.3/13.3 MB 14.2 MB/s eta 0:00:00\n",
            "   ━━━━━━━━━━━━━━━━━━━━━━━━━━━━━━━━━━━━━━━━ 905.3/905.3 MB 2.1 MB/s eta 0:00:00\n",
            "   ━━━━━━━━━━━━━━━━━━━━━━━━━━━━━━━━━━━━━━━━ 417.9/417.9 MB 4.1 MB/s eta 0:00:00\n",
            "   ━━━━━━━━━━━━━━━━━━━━━━━━━━━━━━━━━━━━━━━━ 13.1/13.1 MB 75.6 MB/s eta 0:00:00\n",
            "   ━━━━━━━━━━━━━━━━━━━━━━━━━━━━━━━━━━━━━━━━ 23.2/23.2 MB 64.7 MB/s eta 0:00:00\n",
            "   ━━━━━━━━━━━━━━━━━━━━━━━━━━━━━━━━━━━━━━━━ 875.6/875.6 kB 40.0 MB/s eta 0:00:00\n",
            "   ━━━━━━━━━━━━━━━━━━━━━━━━━━━━━━━━━━━━━━━━ 168.4/168.4 MB 6.4 MB/s eta 0:00:00\n",
            "   ━━━━━━━━━━━━━━━━━━━━━━━━━━━━━━━━━━━━━━━━ 58.1/58.1 MB 13.9 MB/s eta 0:00:00\n",
            "   ━━━━━━━━━━━━━━━━━━━━━━━━━━━━━━━━━━━━━━━━ 128.2/128.2 MB 7.2 MB/s eta 0:00:00\n",
            "   ━━━━━━━━━━━━━━━━━━━━━━━━━━━━━━━━━━━━━━━━ 204.1/204.1 MB 6.2 MB/s eta 0:00:00\n",
            "   ━━━━━━━━━━━━━━━━━━━━━━━━━━━━━━━━━━━━━━━━ 99.1/99.1 kB 7.5 MB/s eta 0:00:00\n",
            "   ━━━━━━━━━━━━━━━━━━━━━━━━━━━━━━━━━━━━━━━━ 155.7/155.7 MB 8.6 MB/s eta 0:00:00\n",
            "   ━━━━━━━━━━━━━━━━━━━━━━━━━━━━━━━━━━━━━━━━ 61.2/61.2 kB 2.9 MB/s eta 0:00:00\n",
            "   ━━━━━━━━━━━━━━━━━━━━━━━━━━━━━━━━━━━━━━━━ 6.7/6.7 MB 61.1 MB/s eta 0:00:00\n",
            "   ━━━━━━━━━━━━━━━━━━━━━━━━━━━━━━━━━━━━━━━━ 3.3/3.3 MB 2.3 MB/s eta 0:00:00\n",
            "   ━━━━━━━━━━━━━━━━━━━━━━━━━━━━━━━━━━━━━━━━ 1.1/1.1 MB 47.5 MB/s eta 0:00:00\n",
            "   ━━━━━━━━━━━━━━━━━━━━━━━━━━━━━━━━━━━━━━━━ 305.2/305.2 kB 20.7 MB/s eta 0:00:00\n",
            "   ━━━━━━━━━━━━━━━━━━━━━━━━━━━━━━━━━━━━━━━━ 39.7/39.7 MB 14.9 MB/s eta 0:00:00\n",
            "   ━━━━━━━━━━━━━━━━━━━━━━━━━━━━━━━━━━━━━━━━ 2.8/2.8 MB 63.3 MB/s eta 0:00:00\n",
            "   ━━━━━━━━━━━━━━━━━━━━━━━━━━━━━━━━━━━━━━━━ 6.3/6.3 MB 100.3 MB/s eta 0:00:00\n",
            "✅ 依存関係インストール完了！\n"
          ]
        },
        {
          "output_type": "stream",
          "name": "stderr",
          "text": [
            "ERROR: pip's dependency resolver does not currently take into account all the packages that are installed. This behaviour is the source of the following dependency conflicts.\n",
            "fastai 2.7.19 requires torch<2.7,>=1.10, but you have torch 2.7.1+cu118 which is incompatible.\n"
          ]
        }
      ]
    },
    {
      "cell_type": "markdown",
      "source": [
        "##6️⃣ cloudflared の準備"
      ],
      "metadata": {
        "id": "lJnaeEL9o-yO"
      }
    },
    {
      "cell_type": "code",
      "source": [
        "%%bash\n",
        "# 🌎 cloudflared をインストール\n",
        "echo \"🌎 cloudflared をインストールしています…\"\n",
        "# Cloudflare の公開鍵を追加\n",
        "curl -fsSL https://pkg.cloudflare.com/pubkey.gpg | sudo apt-key add -\n",
        "# apt リポジトリを追加\n",
        "echo 'deb https://pkg.cloudflare.com/ jammy main' | sudo tee /etc/apt/sources.list.d/cloudflare.list\n",
        "# パッケージリストを更新＆cloudflaredをインストール\n",
        "sudo apt-get update -q\n",
        "sudo apt-get install -y cloudflared\n",
        "\n",
        "echo \"✅ cloudflared のインストールが完了しました！\""
      ],
      "metadata": {
        "colab": {
          "base_uri": "https://localhost:8080/"
        },
        "id": "s-YfikbXpDHo",
        "outputId": "3ebcf11e-351f-4aaf-b467-4ad7b9c5cd62"
      },
      "execution_count": null,
      "outputs": [
        {
          "output_type": "stream",
          "name": "stdout",
          "text": [
            "🌎 cloudflared をインストールしています…\n",
            "deb https://pkg.cloudflare.com/ jammy main\n",
            "Hit:1 https://developer.download.nvidia.com/compute/cuda/repos/ubuntu2204/x86_64  InRelease\n",
            "Hit:2 https://cloud.r-project.org/bin/linux/ubuntu jammy-cran40/ InRelease\n",
            "Get:3 http://security.ubuntu.com/ubuntu jammy-security InRelease [129 kB]\n",
            "Get:4 https://pkg.cloudflare.com jammy InRelease [1,445 B]\n",
            "Hit:5 http://archive.ubuntu.com/ubuntu jammy InRelease\n",
            "Err:4 https://pkg.cloudflare.com jammy InRelease\n",
            "  The following signatures couldn't be verified because the public key is not available: NO_PUBKEY 254B391D8CACCBF8\n",
            "Get:6 http://archive.ubuntu.com/ubuntu jammy-updates InRelease [128 kB]\n",
            "Hit:7 https://r2u.stat.illinois.edu/ubuntu jammy InRelease\n",
            "Hit:8 https://ppa.launchpadcontent.net/deadsnakes/ppa/ubuntu jammy InRelease\n",
            "Hit:9 https://ppa.launchpadcontent.net/graphics-drivers/ppa/ubuntu jammy InRelease\n",
            "Hit:10 https://ppa.launchpadcontent.net/ubuntugis/ppa/ubuntu jammy InRelease\n",
            "Get:11 http://archive.ubuntu.com/ubuntu jammy-backports InRelease [127 kB]\n",
            "Reading package lists...\n",
            "Reading package lists...\n",
            "Building dependency tree...\n",
            "Reading state information...\n",
            "✅ cloudflared のインストールが完了しました！\n"
          ]
        },
        {
          "output_type": "stream",
          "name": "stderr",
          "text": [
            "Warning: apt-key is deprecated. Manage keyring files in trusted.gpg.d instead (see apt-key(8)).\n",
            "curl: (22) The requested URL returned error: 404\n",
            "gpg: no valid OpenPGP data found.\n",
            "W: GPG error: https://pkg.cloudflare.com jammy InRelease: The following signatures couldn't be verified because the public key is not available: NO_PUBKEY 254B391D8CACCBF8\n",
            "E: The repository 'https://pkg.cloudflare.com jammy InRelease' is not signed.\n",
            "W: Skipping acquire of configured file 'main/source/Sources' as repository 'https://r2u.stat.illinois.edu/ubuntu jammy InRelease' does not seem to provide it (sources.list entry misspelt?)\n",
            "E: Unable to locate package cloudflared\n"
          ]
        }
      ]
    },
    {
      "cell_type": "markdown",
      "source": [
        "##7️⃣ ComfyUI の起動_（cloudflared の準備_トンネル起動）"
      ],
      "metadata": {
        "id": "P46w6pJ3vHl2"
      }
    },
    {
      "cell_type": "code",
      "source": [
        "import os\n",
        "import subprocess\n",
        "import threading\n",
        "import time\n",
        "import socket\n",
        "from google.colab import drive, output\n",
        "\n",
        "# 1️⃣ Google Drive をマウント\n",
        "print(\"🌱 Google Drive をマウントしています…\")\n",
        "drive.mount('/content/drive', force_remount=True)\n",
        "\n",
        "# 2️⃣ ComfyUI リポジトリのクローン or 更新\n",
        "WORKSPACE = '/content/drive/MyDrive/ComfyUI'\n",
        "if not os.path.isdir(WORKSPACE):\n",
        "    print(\"📂 ComfyUI をクローンしています…\")\n",
        "    subprocess.run(['git', 'clone', '--depth', '1', 'https://github.com/comfyanonymous/ComfyUI.git', WORKSPACE])\n",
        "else:\n",
        "    print(\"🔄 ComfyUI を最新に更新しています…\")\n",
        "    subprocess.run(['git', 'pull'], cwd=WORKSPACE)\n",
        "\n",
        "# 3️⃣ 依存関係のインストール\n",
        "print(\"📦 依存関係をインストールしています…（少し時間がかかります）\")\n",
        "subprocess.run([\n",
        "    'pip', 'install', '-q', 'xformers!=0.0.18', '-r', 'requirements.txt',\n",
        "    '--extra-index-url', 'https://download.pytorch.org/whl/cu121',\n",
        "    '--extra-index-url', 'https://download.pytorch.org/whl/cu118',\n",
        "    '--extra-index-url', 'https://download.pytorch.org/whl/cu117'\n",
        "], cwd=WORKSPACE)\n",
        "\n",
        "# 4️⃣ ComfyUI をバックグラウンドで起動\n",
        "print(\"🔧 ComfyUI を起動しています…\")\n",
        "subprocess.Popen(\n",
        "    ['python', 'main.py', '--listen', '--host', '0.0.0.0', '--port', '8188'],\n",
        "    cwd=WORKSPACE\n",
        ")\n",
        "\n",
        "# 5️⃣ ポート 8188 がオープンするのを待って iframe 埋め込み\n",
        "def serve_comfy():\n",
        "    print(\"⏳ ポート 8188 の準備を待っています…\")\n",
        "    while True:\n",
        "        time.sleep(0.5)\n",
        "        with socket.socket(socket.AF_INET, socket.SOCK_STREAM) as sock:\n",
        "            if sock.connect_ex(('127.0.0.1', 8188)) == 0:\n",
        "                break\n",
        "    print(\"✅ ComfyUI が起動しました！UI を埋め込みます…\")\n",
        "    output.serve_kernel_port_as_iframe(8188, height=900)\n",
        "    output.serve_kernel_port_as_window(8188)\n",
        "\n",
        "threading.Thread(target=serve_comfy, daemon=True).start()\n"
      ],
      "metadata": {
        "id": "sWUP_dVE4d0g"
      },
      "execution_count": null,
      "outputs": []
    }
  ]
}