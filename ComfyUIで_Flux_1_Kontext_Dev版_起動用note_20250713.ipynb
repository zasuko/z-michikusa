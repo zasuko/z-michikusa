{
  "nbformat": 4,
  "nbformat_minor": 0,
  "metadata": {
    "colab": {
      "provenance": [],
      "machine_shape": "hm",
      "gpuType": "L4"
    },
    "kernelspec": {
      "name": "python3",
      "display_name": "Python 3"
    },
    "language_info": {
      "name": "python"
    },
    "accelerator": "GPU"
  },
  "cells": [
    {
      "cell_type": "markdown",
      "source": [
        "# 🌸 AIみちくさチャンネル 無料配布 Flux_1_Kontext_Dev版_起動 ノートブック 🌸"
      ],
      "metadata": {
        "id": "aENR3vGpKMl6"
      }
    },
    {
      "cell_type": "markdown",
      "source": [
        "# 🍀 はじめに\n",
        "- ＡＩみちくさチャンネル視聴者の皆様いつも本当にありがとうございます！🐣  \n",
        "- このノートブックは、最新の ComfyUI を Google Drive に設置し、Flux_1_Kontext_Dev をどなたでも簡単に起動できる様にしたものです。\n"
      ],
      "metadata": {
        "id": "CjsFcpb8KR_a"
      }
    },
    {
      "cell_type": "markdown",
      "source": [
        "## 📄 目次\n",
        "1. Google Drive のマウント  \n",
        "2. ComfyUI 本体の取得と更新  \n",
        "3. フォルダ構成の自動生成  \n",
        "4. 必要モデルのダウンロード  \n",
        "5. 依存関係のインストール  \n",
        "6. cloudflared の準備  \n",
        "7. ComfyUI の起動  "
      ],
      "metadata": {
        "id": "7edFTQsKKVKg"
      }
    },
    {
      "cell_type": "markdown",
      "source": [
        "#🌎＜Step❶＞ 環境設定＆ComfyUI取得"
      ],
      "metadata": {
        "id": "ABKnqqCjparz"
      }
    },
    {
      "cell_type": "code",
      "execution_count": null,
      "metadata": {
        "id": "Ev8t4FAXpYK4"
      },
      "outputs": [],
      "source": [
        "# セル①：Google Driveマウント → ComfyUIクローン／更新 → 依存関係インストール\n",
        "from google.colab import drive\n",
        "import subprocess, os\n",
        "\n",
        "print(\"🌎 Google Drive をマウント中…\")\n",
        "drive.mount('/content/drive')\n",
        "\n",
        "ROOT = '/content/drive/MyDrive'\n",
        "WORKSPACE = os.path.join(ROOT, 'ComfyUI')\n",
        "\n",
        "if not os.path.isdir(os.path.join(WORKSPACE, '.git')):\n",
        "    print(\"📥 ComfyUI を初回クローン中…\")\n",
        "    subprocess.run(['git','clone','--depth','1',\n",
        "                    'https://github.com/comfyanonymous/ComfyUI.git',\n",
        "                    WORKSPACE], check=True)\n",
        "else:\n",
        "    print(\"🔄 ComfyUI を最新に更新中…\")\n",
        "    subprocess.run(['git','-C',WORKSPACE,'pull'], check=True)\n",
        "\n",
        "print(\"📦 依存ライブラリをインストール中…（☕少しお待ちください※約3分）\")\n",
        "subprocess.run([\n",
        "    'pip','install','-q',\n",
        "    'xformers!=0.0.18',\n",
        "    '-r', os.path.join(WORKSPACE,'requirements.txt'),\n",
        "    '--extra-index-url','https://download.pytorch.org/whl/cu121'\n",
        "], check=True)\n",
        "\n",
        "print(\"✅ ＜Step❶＞セットアップ完了！次は📁＜Step❷＞を ▶️ 実行してください🌸\")\n"
      ]
    },
    {
      "cell_type": "markdown",
      "source": [
        "#📁 ＜Step❷＞ フォルダ生成＆必要モデルダウンロード"
      ],
      "metadata": {
        "id": "I8nTmYUgphPX"
      }
    },
    {
      "cell_type": "code",
      "source": [
        "%%bash\n",
        "# セル②：モデルフォルダを作成＆必要なモデルだけDL\n",
        "WORKSPACE=\"/content/drive/MyDrive/ComfyUI\"\n",
        "\n",
        "echo \"📁 フォルダ構成を作成中…\"\n",
        "mkdir -p \"$WORKSPACE/models/diffusion_models\" \\\n",
        "         \"$WORKSPACE/models/vae\" \\\n",
        "         \"$WORKSPACE/models/text_encoders\" \\\n",
        "         \"$WORKSPACE/output\"\n",
        "\n",
        "echo \"🌱 diffusion model をダウンロード…\"\n",
        "wget -q -c \\\n",
        "  https://huggingface.co/Comfy-Org/flux1-kontext-dev_ComfyUI/resolve/main/split_files/diffusion_models/flux1-dev-kontext_fp8_scaled.safetensors \\\n",
        "  -P \"$WORKSPACE/models/diffusion_models/\"\n",
        "\n",
        "echo \"🌼 VAE をダウンロード…\"\n",
        "wget -q -c \\\n",
        "  https://huggingface.co/Comfy-Org/Lumina_Image_2.0_Repackaged/resolve/main/split_files/vae/ae.safetensors \\\n",
        "  -P \"$WORKSPACE/models/vae/\"\n",
        "\n",
        "echo \"📖 text_encoders をダウンロード…\"\n",
        "wget -q -c \\\n",
        "  https://huggingface.co/comfyanonymous/flux_text_encoders/resolve/main/clip_l.safetensors \\\n",
        "  -P \"$WORKSPACE/models/text_encoders/\"\n",
        "wget -q -c \\\n",
        "  https://huggingface.co/comfyanonymous/flux_text_encoders/resolve/main/t5xxl_fp16.safetensors \\\n",
        "  -P \"$WORKSPACE/models/text_encoders/\"\n",
        "\n",
        "echo \"✅ 必要モデルの準備完了！\"\n",
        "echo \"✅ ＜Step❷＞ セットアップ完了！次は💻＜Step❸＞を ▶️ 実行してください🌸\""
      ],
      "metadata": {
        "id": "0tjVdwnhplaA"
      },
      "execution_count": null,
      "outputs": []
    },
    {
      "cell_type": "markdown",
      "source": [
        "#💻＜Step❸＞ ComfyUI 起動＆外部アクセスリンク表示"
      ],
      "metadata": {
        "id": "yONeESMSpnpS"
      }
    },
    {
      "cell_type": "code",
      "source": [
        "# セル③：ComfyUI 起動＆Colab プロキシ経由リンク表示（URL重複を修正）\n",
        "import subprocess, time, socket\n",
        "from google.colab import output\n",
        "\n",
        "WORKSPACE = '/content/drive/MyDrive/ComfyUI'\n",
        "\n",
        "# 1️⃣ ComfyUI をバックグラウンド起動\n",
        "print(\"🔧 ComfyUI を起動しています…\")\n",
        "subprocess.Popen(\n",
        "    ['python','main.py','--listen','0.0.0.0','--port','8188'],\n",
        "    cwd=WORKSPACE\n",
        ")\n",
        "\n",
        "# 2️⃣ ポート8188の立ち上がりを待機\n",
        "print(\"⏳ ポート 8188 の起動を待っています…_☕少しお待ちください※約２分\")\n",
        "while True:\n",
        "    time.sleep(0.5)\n",
        "    with socket.socket(socket.AF_INET, socket.SOCK_STREAM) as s:\n",
        "        if s.connect_ex(('127.0.0.1', 8188)) == 0:\n",
        "            break\n",
        "print(\"✅ ComfyUI 起動完了！\")\n",
        "\n",
        "# 3️⃣ Colab プロキシで公開URLを取得（既に https:// を含む）\n",
        "url = output.eval_js(\"google.colab.kernel.proxyPort(8188)\")\n",
        "\n",
        "# 4️⃣ URLをそのまま表示\n",
        "print(f\"\\n✅ 👇下記、ComfyUI アクセス用リンクをクリックして下さい🍀:\\n{url}\\n\")\n"
      ],
      "metadata": {
        "id": "uYCT-M2oprNt"
      },
      "execution_count": null,
      "outputs": []
    }
  ]
}